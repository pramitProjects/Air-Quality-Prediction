{
 "cells": [
  {
   "cell_type": "markdown",
   "metadata": {},
   "source": [
    "# The Project Aims to Determine the Air Quality by Using Lasso Regression and Random Forest Regressor"
   ]
  },
  {
   "cell_type": "code",
   "execution_count": 1,
   "metadata": {
    "id": "NWxSewmucYHp"
   },
   "outputs": [],
   "source": [
    "import pandas as pd\n",
    "import numpy as np\n",
    "from sklearn import linear_model\n",
    "from sklearn import linear_model\n",
    "from sklearn.model_selection import GridSearchCV\n",
    "from sklearn.ensemble import RandomForestRegressor\n",
    "import urllib\n",
    "import matplotlib.pyplot as plt\n",
    "%matplotlib inline"
   ]
  },
  {
   "cell_type": "markdown",
   "metadata": {
    "id": "WWSGSGFfcYHs"
   },
   "source": [
    "We will be trying to predict the pollution (PM2.5) using:\n",
    "- temperature ('TEMP')\n",
    "- pressure ('PRES')\n",
    "- dew-point temperature ('DEWP')\n",
    "- precipitation ('RAIN')\n",
    "- wind direction ('wd')\n",
    "- wind speed ('WSPM')"
   ]
  },
  {
   "cell_type": "code",
   "execution_count": 4,
   "metadata": {
    "id": "QujKMUPtcYHu"
   },
   "outputs": [
    {
     "data": {
      "text/plain": [
       "('./data.csv', <http.client.HTTPMessage at 0x1e626e96f48>)"
      ]
     },
     "execution_count": 4,
     "metadata": {},
     "output_type": "execute_result"
    }
   ],
   "source": [
    "urllib.request.urlretrieve('https://drive.google.com/uc?id=1m1g4Xn1wMAGV_EU0Nh1HTI1ogA3-tqJk&export=download', './data.csv')"
   ]
  },
  {
   "cell_type": "code",
   "execution_count": 5,
   "metadata": {
    "id": "2qOVpf72cYHv"
   },
   "outputs": [],
   "source": [
    "raw_df = pd.read_csv('data.csv',index_col='No')\n",
    "\n",
    "#put the columns in a useful order\n",
    "raw_df = raw_df[['PM2.5', 'year', 'month', 'day', 'hour', 'PM10', 'SO2', 'NO2', 'CO',\n",
    "       'O3', 'TEMP', 'PRES', 'DEWP', 'RAIN', 'wd', 'WSPM', 'station']]"
   ]
  },
  {
   "cell_type": "code",
   "execution_count": 6,
   "metadata": {},
   "outputs": [
    {
     "data": {
      "text/html": [
       "<div>\n",
       "<style scoped>\n",
       "    .dataframe tbody tr th:only-of-type {\n",
       "        vertical-align: middle;\n",
       "    }\n",
       "\n",
       "    .dataframe tbody tr th {\n",
       "        vertical-align: top;\n",
       "    }\n",
       "\n",
       "    .dataframe thead th {\n",
       "        text-align: right;\n",
       "    }\n",
       "</style>\n",
       "<table border=\"1\" class=\"dataframe\">\n",
       "  <thead>\n",
       "    <tr style=\"text-align: right;\">\n",
       "      <th></th>\n",
       "      <th>PM2.5</th>\n",
       "      <th>year</th>\n",
       "      <th>month</th>\n",
       "      <th>day</th>\n",
       "      <th>hour</th>\n",
       "      <th>PM10</th>\n",
       "      <th>SO2</th>\n",
       "      <th>NO2</th>\n",
       "      <th>CO</th>\n",
       "      <th>O3</th>\n",
       "      <th>TEMP</th>\n",
       "      <th>PRES</th>\n",
       "      <th>DEWP</th>\n",
       "      <th>RAIN</th>\n",
       "      <th>wd</th>\n",
       "      <th>WSPM</th>\n",
       "      <th>station</th>\n",
       "    </tr>\n",
       "    <tr>\n",
       "      <th>No</th>\n",
       "      <th></th>\n",
       "      <th></th>\n",
       "      <th></th>\n",
       "      <th></th>\n",
       "      <th></th>\n",
       "      <th></th>\n",
       "      <th></th>\n",
       "      <th></th>\n",
       "      <th></th>\n",
       "      <th></th>\n",
       "      <th></th>\n",
       "      <th></th>\n",
       "      <th></th>\n",
       "      <th></th>\n",
       "      <th></th>\n",
       "      <th></th>\n",
       "      <th></th>\n",
       "    </tr>\n",
       "  </thead>\n",
       "  <tbody>\n",
       "    <tr>\n",
       "      <th>1</th>\n",
       "      <td>9.0</td>\n",
       "      <td>2013</td>\n",
       "      <td>3</td>\n",
       "      <td>1</td>\n",
       "      <td>0</td>\n",
       "      <td>9.0</td>\n",
       "      <td>6.0</td>\n",
       "      <td>17.0</td>\n",
       "      <td>200.0</td>\n",
       "      <td>62.0</td>\n",
       "      <td>0.3</td>\n",
       "      <td>1021.9</td>\n",
       "      <td>-19.0</td>\n",
       "      <td>0.0</td>\n",
       "      <td>WNW</td>\n",
       "      <td>2.0</td>\n",
       "      <td>Wanshouxigong</td>\n",
       "    </tr>\n",
       "    <tr>\n",
       "      <th>2</th>\n",
       "      <td>11.0</td>\n",
       "      <td>2013</td>\n",
       "      <td>3</td>\n",
       "      <td>1</td>\n",
       "      <td>1</td>\n",
       "      <td>11.0</td>\n",
       "      <td>7.0</td>\n",
       "      <td>14.0</td>\n",
       "      <td>200.0</td>\n",
       "      <td>66.0</td>\n",
       "      <td>-0.1</td>\n",
       "      <td>1022.4</td>\n",
       "      <td>-19.3</td>\n",
       "      <td>0.0</td>\n",
       "      <td>WNW</td>\n",
       "      <td>4.4</td>\n",
       "      <td>Wanshouxigong</td>\n",
       "    </tr>\n",
       "    <tr>\n",
       "      <th>3</th>\n",
       "      <td>8.0</td>\n",
       "      <td>2013</td>\n",
       "      <td>3</td>\n",
       "      <td>1</td>\n",
       "      <td>2</td>\n",
       "      <td>8.0</td>\n",
       "      <td>NaN</td>\n",
       "      <td>16.0</td>\n",
       "      <td>200.0</td>\n",
       "      <td>59.0</td>\n",
       "      <td>-0.6</td>\n",
       "      <td>1022.6</td>\n",
       "      <td>-19.7</td>\n",
       "      <td>0.0</td>\n",
       "      <td>WNW</td>\n",
       "      <td>4.7</td>\n",
       "      <td>Wanshouxigong</td>\n",
       "    </tr>\n",
       "    <tr>\n",
       "      <th>4</th>\n",
       "      <td>8.0</td>\n",
       "      <td>2013</td>\n",
       "      <td>3</td>\n",
       "      <td>1</td>\n",
       "      <td>3</td>\n",
       "      <td>8.0</td>\n",
       "      <td>3.0</td>\n",
       "      <td>16.0</td>\n",
       "      <td>NaN</td>\n",
       "      <td>NaN</td>\n",
       "      <td>-0.7</td>\n",
       "      <td>1023.5</td>\n",
       "      <td>-20.9</td>\n",
       "      <td>0.0</td>\n",
       "      <td>NW</td>\n",
       "      <td>2.6</td>\n",
       "      <td>Wanshouxigong</td>\n",
       "    </tr>\n",
       "    <tr>\n",
       "      <th>5</th>\n",
       "      <td>8.0</td>\n",
       "      <td>2013</td>\n",
       "      <td>3</td>\n",
       "      <td>1</td>\n",
       "      <td>4</td>\n",
       "      <td>8.0</td>\n",
       "      <td>3.0</td>\n",
       "      <td>NaN</td>\n",
       "      <td>300.0</td>\n",
       "      <td>36.0</td>\n",
       "      <td>-0.9</td>\n",
       "      <td>1024.1</td>\n",
       "      <td>-21.7</td>\n",
       "      <td>0.0</td>\n",
       "      <td>WNW</td>\n",
       "      <td>2.5</td>\n",
       "      <td>Wanshouxigong</td>\n",
       "    </tr>\n",
       "  </tbody>\n",
       "</table>\n",
       "</div>"
      ],
      "text/plain": [
       "    PM2.5  year  month  day  hour  PM10  SO2   NO2     CO    O3  TEMP    PRES  \\\n",
       "No                                                                              \n",
       "1     9.0  2013      3    1     0   9.0  6.0  17.0  200.0  62.0   0.3  1021.9   \n",
       "2    11.0  2013      3    1     1  11.0  7.0  14.0  200.0  66.0  -0.1  1022.4   \n",
       "3     8.0  2013      3    1     2   8.0  NaN  16.0  200.0  59.0  -0.6  1022.6   \n",
       "4     8.0  2013      3    1     3   8.0  3.0  16.0    NaN   NaN  -0.7  1023.5   \n",
       "5     8.0  2013      3    1     4   8.0  3.0   NaN  300.0  36.0  -0.9  1024.1   \n",
       "\n",
       "    DEWP  RAIN   wd  WSPM        station  \n",
       "No                                        \n",
       "1  -19.0   0.0  WNW   2.0  Wanshouxigong  \n",
       "2  -19.3   0.0  WNW   4.4  Wanshouxigong  \n",
       "3  -19.7   0.0  WNW   4.7  Wanshouxigong  \n",
       "4  -20.9   0.0   NW   2.6  Wanshouxigong  \n",
       "5  -21.7   0.0  WNW   2.5  Wanshouxigong  "
      ]
     },
     "execution_count": 6,
     "metadata": {},
     "output_type": "execute_result"
    }
   ],
   "source": [
    "raw_df.head(5)"
   ]
  },
  {
   "cell_type": "markdown",
   "metadata": {
    "id": "oQKg3AFPcYHx"
   },
   "source": [
    "Some of the records are missing. We need to handle that before we can easily use the data with most ML tools.\n",
    "\n",
    "### Removing missing data \n",
    "\n",
    "I am going to handle this by dropping those rows which have a NaN in one of these columns: ['PM2.5','hour','TEMP','PRES','DEWP','RAIN','wd','WSPM'].\n",
    "\n",
    "I will save the result in `nonull_df`."
   ]
  },
  {
   "cell_type": "code",
   "execution_count": 7,
   "metadata": {
    "id": "k0cYywfFcYHy"
   },
   "outputs": [],
   "source": [
    "#using dropna method of pandas\n",
    "nonull_df = raw_df.dropna(subset= ['PM2.5','hour','TEMP','PRES','DEWP','RAIN','wd','WSPM']) # dropping the rows that contains NaN in the selected columns"
   ]
  },
  {
   "cell_type": "markdown",
   "metadata": {
    "id": "UNruaXp6cYHz"
   },
   "source": [
    "Here I am checking if the missing values are correctly removed or not. I have used Pandas `clean_df.isnull().sum()` method to confirm that there are no NaN rows in the columns of my interest:"
   ]
  },
  {
   "cell_type": "code",
   "execution_count": 8,
   "metadata": {
    "id": "zPWKkfzHcYH0"
   },
   "outputs": [
    {
     "data": {
      "text/plain": [
       "PM2.5    0\n",
       "hour     0\n",
       "TEMP     0\n",
       "PRES     0\n",
       "DEWP     0\n",
       "RAIN     0\n",
       "wd       0\n",
       "WSPM     0\n",
       "dtype: int64"
      ]
     },
     "execution_count": 8,
     "metadata": {},
     "output_type": "execute_result"
    }
   ],
   "source": [
    "nonull_df[['PM2.5','hour','TEMP','PRES','DEWP','RAIN','wd','WSPM']].isnull().sum() # Checking the sum of NaN values for all the rows in the selected columns"
   ]
  },
  {
   "cell_type": "markdown",
   "metadata": {
    "id": "8ePRfNOEcYH1"
   },
   "source": [
    "###  Removing unwanted columns \n",
    "\n",
    "I am removing the features (columns) that will not be used for the prediction. I have used `nonull_df.drop(list_of_column_names, axis=1)` to do this. I will drop: ['year','month','day','PM10','SO2','NO2','CO','O3','station']."
   ]
  },
  {
   "cell_type": "code",
   "execution_count": 9,
   "metadata": {
    "id": "edYxDc5NcYH1"
   },
   "outputs": [],
   "source": [
    "unwanted_columns = ['year','month','day','PM10','SO2','NO2','CO','O3','station'] # List of unwanted columns\n",
    "clean_df = nonull_df.drop(unwanted_columns, axis=1) # we are dropping the list of unwanted columns"
   ]
  },
  {
   "cell_type": "code",
   "execution_count": 10,
   "metadata": {},
   "outputs": [
    {
     "data": {
      "text/plain": [
       "PM2.5    0\n",
       "hour     0\n",
       "TEMP     0\n",
       "PRES     0\n",
       "DEWP     0\n",
       "RAIN     0\n",
       "wd       0\n",
       "WSPM     0\n",
       "dtype: int64"
      ]
     },
     "execution_count": 10,
     "metadata": {},
     "output_type": "execute_result"
    }
   ],
   "source": [
    "clean_df.isnull().sum() # rechecking the fact that there are no null values in the selected columns"
   ]
  },
  {
   "cell_type": "code",
   "execution_count": 11,
   "metadata": {
    "id": "0FGsOUWbcYH2"
   },
   "outputs": [
    {
     "data": {
      "text/plain": [
       "(34284, 8)"
      ]
     },
     "execution_count": 11,
     "metadata": {},
     "output_type": "execute_result"
    }
   ],
   "source": [
    "#there should be 34284 rows left in the dataframe, and 8 columns\n",
    "clean_df.shape #=(34284, 8)"
   ]
  },
  {
   "cell_type": "markdown",
   "metadata": {
    "id": "UoskxkwycYH3"
   },
   "source": [
    "###  Splitting the dataset \n",
    "\n",
    "Before designing any machine learning model, we need to set aside the test data. We will use the remaining training data for fitting the model. **It is important to remember that the test data has to be set aside before preprocessing**.\n",
    "\n",
    "Any preprocessing that we do has to be done only on the training data and several key statistics need to be saved for the test stage. Separating the dataset into training and test before any preprocessing has happened help us to recreate the real world scenario where we will deploy our system and for which the data will come without any preprocessing.\n",
    "\n",
    "Later I will be performing a grid search to select parameter values. To do this I've done cross-validation, but rather than splitting the data into training and validation here, I'll split it later. So for now I'll just split into:\n",
    "\n",
    "- The training (and validation) set will have 85% of the total observations, \n",
    "- The test set, the remaining 15%.\n",
    "\n",
    "To avoid unwanted correlations connecting the training and test, I will split these by time. So:\n",
    "\n",
    "- I take the first 85% of the rows from clean_df and put them in train_df, and I take the remaining 15% of the rows and put them in test_df"
   ]
  },
  {
   "cell_type": "code",
   "execution_count": 14,
   "metadata": {},
   "outputs": [],
   "source": [
    "n = 85\n",
    "train_size = round(len(clean_df)*n/100) # Calculating the training size as 85% of the total size of the dataset \n",
    "#print(train_size)\n",
    "test_size = round(len(clean_df)-train_size) # taking the remaining as the test size\n",
    "#print(test_size)\n",
    "\n",
    "#train_df = clean_df[len()]"
   ]
  },
  {
   "cell_type": "code",
   "execution_count": 17,
   "metadata": {},
   "outputs": [],
   "source": [
    "train_df = clean_df[:train_size+1] # Putting the first 85% of the values in the train_df\n",
    "test_df = clean_df[train_size:] # Putting the last 15% of the values in the test_df"
   ]
  },
  {
   "cell_type": "markdown",
   "metadata": {
    "id": "hn-utn5pcYH6"
   },
   "source": [
    "To check the sizes are correct, we can use:"
   ]
  },
  {
   "cell_type": "code",
   "execution_count": 19,
   "metadata": {
    "id": "lYolbW7RcYH6"
   },
   "outputs": [
    {
     "data": {
      "text/plain": [
       "(0.8500175008750438, 0.15001166725002918)"
      ]
     },
     "execution_count": 19,
     "metadata": {},
     "output_type": "execute_result"
    }
   ],
   "source": [
    "len(train_df)/len(clean_df),len(test_df)/len(clean_df) #checking whether the ratio of the elements in the train and test dataset are correct or not"
   ]
  },
  {
   "cell_type": "code",
   "execution_count": 20,
   "metadata": {},
   "outputs": [
    {
     "data": {
      "text/html": [
       "<div>\n",
       "<style scoped>\n",
       "    .dataframe tbody tr th:only-of-type {\n",
       "        vertical-align: middle;\n",
       "    }\n",
       "\n",
       "    .dataframe tbody tr th {\n",
       "        vertical-align: top;\n",
       "    }\n",
       "\n",
       "    .dataframe thead th {\n",
       "        text-align: right;\n",
       "    }\n",
       "</style>\n",
       "<table border=\"1\" class=\"dataframe\">\n",
       "  <thead>\n",
       "    <tr style=\"text-align: right;\">\n",
       "      <th></th>\n",
       "      <th>PM2.5</th>\n",
       "      <th>hour</th>\n",
       "      <th>TEMP</th>\n",
       "      <th>PRES</th>\n",
       "      <th>DEWP</th>\n",
       "      <th>RAIN</th>\n",
       "      <th>wd</th>\n",
       "      <th>WSPM</th>\n",
       "    </tr>\n",
       "    <tr>\n",
       "      <th>No</th>\n",
       "      <th></th>\n",
       "      <th></th>\n",
       "      <th></th>\n",
       "      <th></th>\n",
       "      <th></th>\n",
       "      <th></th>\n",
       "      <th></th>\n",
       "      <th></th>\n",
       "    </tr>\n",
       "  </thead>\n",
       "  <tbody>\n",
       "    <tr>\n",
       "      <th>1</th>\n",
       "      <td>9.0</td>\n",
       "      <td>0</td>\n",
       "      <td>0.3</td>\n",
       "      <td>1021.9</td>\n",
       "      <td>-19.0</td>\n",
       "      <td>0.0</td>\n",
       "      <td>WNW</td>\n",
       "      <td>2.0</td>\n",
       "    </tr>\n",
       "    <tr>\n",
       "      <th>2</th>\n",
       "      <td>11.0</td>\n",
       "      <td>1</td>\n",
       "      <td>-0.1</td>\n",
       "      <td>1022.4</td>\n",
       "      <td>-19.3</td>\n",
       "      <td>0.0</td>\n",
       "      <td>WNW</td>\n",
       "      <td>4.4</td>\n",
       "    </tr>\n",
       "    <tr>\n",
       "      <th>3</th>\n",
       "      <td>8.0</td>\n",
       "      <td>2</td>\n",
       "      <td>-0.6</td>\n",
       "      <td>1022.6</td>\n",
       "      <td>-19.7</td>\n",
       "      <td>0.0</td>\n",
       "      <td>WNW</td>\n",
       "      <td>4.7</td>\n",
       "    </tr>\n",
       "    <tr>\n",
       "      <th>4</th>\n",
       "      <td>8.0</td>\n",
       "      <td>3</td>\n",
       "      <td>-0.7</td>\n",
       "      <td>1023.5</td>\n",
       "      <td>-20.9</td>\n",
       "      <td>0.0</td>\n",
       "      <td>NW</td>\n",
       "      <td>2.6</td>\n",
       "    </tr>\n",
       "    <tr>\n",
       "      <th>5</th>\n",
       "      <td>8.0</td>\n",
       "      <td>4</td>\n",
       "      <td>-0.9</td>\n",
       "      <td>1024.1</td>\n",
       "      <td>-21.7</td>\n",
       "      <td>0.0</td>\n",
       "      <td>WNW</td>\n",
       "      <td>2.5</td>\n",
       "    </tr>\n",
       "  </tbody>\n",
       "</table>\n",
       "</div>"
      ],
      "text/plain": [
       "    PM2.5  hour  TEMP    PRES  DEWP  RAIN   wd  WSPM\n",
       "No                                                  \n",
       "1     9.0     0   0.3  1021.9 -19.0   0.0  WNW   2.0\n",
       "2    11.0     1  -0.1  1022.4 -19.3   0.0  WNW   4.4\n",
       "3     8.0     2  -0.6  1022.6 -19.7   0.0  WNW   4.7\n",
       "4     8.0     3  -0.7  1023.5 -20.9   0.0   NW   2.6\n",
       "5     8.0     4  -0.9  1024.1 -21.7   0.0  WNW   2.5"
      ]
     },
     "execution_count": 20,
     "metadata": {},
     "output_type": "execute_result"
    }
   ],
   "source": [
    "train_df.head(5)"
   ]
  },
  {
   "cell_type": "code",
   "execution_count": 21,
   "metadata": {},
   "outputs": [
    {
     "data": {
      "text/html": [
       "<div>\n",
       "<style scoped>\n",
       "    .dataframe tbody tr th:only-of-type {\n",
       "        vertical-align: middle;\n",
       "    }\n",
       "\n",
       "    .dataframe tbody tr th {\n",
       "        vertical-align: top;\n",
       "    }\n",
       "\n",
       "    .dataframe thead th {\n",
       "        text-align: right;\n",
       "    }\n",
       "</style>\n",
       "<table border=\"1\" class=\"dataframe\">\n",
       "  <thead>\n",
       "    <tr style=\"text-align: right;\">\n",
       "      <th></th>\n",
       "      <th>PM2.5</th>\n",
       "      <th>hour</th>\n",
       "      <th>TEMP</th>\n",
       "      <th>PRES</th>\n",
       "      <th>DEWP</th>\n",
       "      <th>RAIN</th>\n",
       "      <th>wd</th>\n",
       "      <th>WSPM</th>\n",
       "    </tr>\n",
       "    <tr>\n",
       "      <th>No</th>\n",
       "      <th></th>\n",
       "      <th></th>\n",
       "      <th></th>\n",
       "      <th></th>\n",
       "      <th></th>\n",
       "      <th></th>\n",
       "      <th></th>\n",
       "      <th></th>\n",
       "    </tr>\n",
       "  </thead>\n",
       "  <tbody>\n",
       "    <tr>\n",
       "      <th>29766</th>\n",
       "      <td>119.0</td>\n",
       "      <td>5</td>\n",
       "      <td>25.9</td>\n",
       "      <td>996.8</td>\n",
       "      <td>24.9</td>\n",
       "      <td>0.0</td>\n",
       "      <td>E</td>\n",
       "      <td>0.5</td>\n",
       "    </tr>\n",
       "    <tr>\n",
       "      <th>29767</th>\n",
       "      <td>128.0</td>\n",
       "      <td>6</td>\n",
       "      <td>26.2</td>\n",
       "      <td>997.3</td>\n",
       "      <td>25.2</td>\n",
       "      <td>0.0</td>\n",
       "      <td>E</td>\n",
       "      <td>0.5</td>\n",
       "    </tr>\n",
       "    <tr>\n",
       "      <th>29768</th>\n",
       "      <td>116.0</td>\n",
       "      <td>7</td>\n",
       "      <td>26.7</td>\n",
       "      <td>997.6</td>\n",
       "      <td>25.5</td>\n",
       "      <td>0.0</td>\n",
       "      <td>E</td>\n",
       "      <td>0.5</td>\n",
       "    </tr>\n",
       "    <tr>\n",
       "      <th>29769</th>\n",
       "      <td>123.0</td>\n",
       "      <td>8</td>\n",
       "      <td>27.4</td>\n",
       "      <td>997.4</td>\n",
       "      <td>25.2</td>\n",
       "      <td>0.0</td>\n",
       "      <td>NE</td>\n",
       "      <td>1.0</td>\n",
       "    </tr>\n",
       "    <tr>\n",
       "      <th>29770</th>\n",
       "      <td>148.0</td>\n",
       "      <td>9</td>\n",
       "      <td>27.9</td>\n",
       "      <td>997.5</td>\n",
       "      <td>25.5</td>\n",
       "      <td>0.0</td>\n",
       "      <td>NNE</td>\n",
       "      <td>1.1</td>\n",
       "    </tr>\n",
       "  </tbody>\n",
       "</table>\n",
       "</div>"
      ],
      "text/plain": [
       "       PM2.5  hour  TEMP   PRES  DEWP  RAIN   wd  WSPM\n",
       "No                                                    \n",
       "29766  119.0     5  25.9  996.8  24.9   0.0    E   0.5\n",
       "29767  128.0     6  26.2  997.3  25.2   0.0    E   0.5\n",
       "29768  116.0     7  26.7  997.6  25.5   0.0    E   0.5\n",
       "29769  123.0     8  27.4  997.4  25.2   0.0   NE   1.0\n",
       "29770  148.0     9  27.9  997.5  25.5   0.0  NNE   1.1"
      ]
     },
     "execution_count": 21,
     "metadata": {},
     "output_type": "execute_result"
    }
   ],
   "source": [
    "test_df.head(5)"
   ]
  },
  {
   "cell_type": "markdown",
   "metadata": {
    "id": "xMvSVU3-cYH7"
   },
   "source": [
    "# Detour: Lasso Regression\n",
    "\n",
    "Later I will use the sklearn toolkit, but in this section **I will develop my own code** to do the Lasso regression.\n",
    "\n",
    "### Ordinary Least Squares Regression\n",
    "\n",
    "First, I'll just perform normal linear regression.\n",
    "\n",
    "I'll use a toy design matrix & labels to use to check that my code works. I'll also specify a weight vector too, for testing."
   ]
  },
  {
   "cell_type": "code",
   "execution_count": 2,
   "metadata": {
    "id": "jRBjUyWgcYH7"
   },
   "outputs": [],
   "source": [
    "X = np.array([[0.0,0],[1,3],[2.2,3]])\n",
    "y = np.array([[0.0,1,2]]).T\n",
    "w = np.array([[1.0,2]]).T"
   ]
  },
  {
   "cell_type": "code",
   "execution_count": 23,
   "metadata": {},
   "outputs": [
    {
     "data": {
      "text/plain": [
       "array([[1.],\n",
       "       [2.]])"
      ]
     },
     "execution_count": 23,
     "metadata": {},
     "output_type": "execute_result"
    }
   ],
   "source": [
    "w"
   ]
  },
  {
   "cell_type": "code",
   "execution_count": 4,
   "metadata": {},
   "outputs": [
    {
     "data": {
      "text/plain": [
       "array([[0.],\n",
       "       [1.],\n",
       "       [2.]])"
      ]
     },
     "execution_count": 4,
     "metadata": {},
     "output_type": "execute_result"
    }
   ],
   "source": [
    "y"
   ]
  },
  {
   "cell_type": "markdown",
   "metadata": {
    "id": "Ou21m-UNcYH7"
   },
   "source": [
    "### Prediction Function \n",
    "\n",
    "The first task is to write a function to make predictions. I write the prediction function to get the predictions for all the points."
   ]
  },
  {
   "cell_type": "code",
   "execution_count": 24,
   "metadata": {
    "id": "r2jQlwn0cYH8"
   },
   "outputs": [],
   "source": [
    "def prediction(X,w):\n",
    "    preds = X@w\n",
    "    return preds"
   ]
  },
  {
   "cell_type": "code",
   "execution_count": 25,
   "metadata": {
    "id": "gEKkPNjgcYH8"
   },
   "outputs": [
    {
     "data": {
      "text/plain": [
       "True"
      ]
     },
     "execution_count": 25,
     "metadata": {},
     "output_type": "execute_result"
    }
   ],
   "source": [
    "# checking whether I've written the right function\n",
    "np.all(prediction(X,w)==np.array([[0. , 7. , 8.2]]).T) #Should return 'True'"
   ]
  },
  {
   "cell_type": "markdown",
   "metadata": {
    "id": "wha2MzM7cYH9"
   },
   "source": [
    "###  Objective Function \n",
    "\n",
    "Now I need to write a function that returns the 'error'.\n",
    "I'll just do normal Ordinary Least Squares with linear regression, so the cost function for that is:\n",
    "\n",
    "$$E = \\sum_{i=1}^N \\big(y_i-f(\\mathbf{x}_i,\\mathbf{w}) \\big)^2$$\n",
    "\n",
    "Where $E$ is the error, $N$ the number of points, $y_i$ is one of the labels, $\\mathbf{x}_i$ is the input for that label, $\\mathbf{w}$ is the weight vector. $f$ is the prediction function I've already written."
   ]
  },
  {
   "cell_type": "code",
   "execution_count": 26,
   "metadata": {
    "id": "LKWQ2Y41cYH9"
   },
   "outputs": [],
   "source": [
    "def objective(X,y,w):\n",
    "    \"\"\"\n",
    "    Computes the sum squared error (to perform OLS linear regression).\n",
    "    \"\"\"\n",
    "    \n",
    "    error = (y.T-w.T@X.T)@(y-X@w)\n",
    "    \n",
    "    return error"
   ]
  },
  {
   "cell_type": "code",
   "execution_count": 27,
   "metadata": {
    "id": "OBo1zJeicYH-"
   },
   "outputs": [
    {
     "data": {
      "text/plain": [
       "array([[ True]])"
      ]
     },
     "execution_count": 27,
     "metadata": {},
     "output_type": "execute_result"
    }
   ],
   "source": [
    "#I have used this code to check if I've written the right function or not\n",
    "objective(X,y,w)==74.44"
   ]
  },
  {
   "cell_type": "code",
   "execution_count": 28,
   "metadata": {},
   "outputs": [
    {
     "data": {
      "text/plain": [
       "array([[74.44]])"
      ]
     },
     "execution_count": 28,
     "metadata": {},
     "output_type": "execute_result"
    }
   ],
   "source": [
    "objective(X,y,w)"
   ]
  },
  {
   "cell_type": "markdown",
   "metadata": {
    "id": "9BhH_-zocYH-"
   },
   "source": [
    "###  Objective Function Gradient \n",
    "\n",
    "Now I have to find the derivative of the objective wrt the parameter vector. I've already derived this using vectors and matrices, so the gradient of the error function (for linear regression) is:\n",
    "\n",
    "$$\\frac{\\partial E}{\\partial \\mathbf{w}} = 2 X^\\top X \\mathbf{w} - 2 X^\\top y$$"
   ]
  },
  {
   "cell_type": "code",
   "execution_count": 29,
   "metadata": {
    "id": "O2TD0-v9cYH-"
   },
   "outputs": [
    {
     "data": {
      "text/plain": [
       "array([[39.28],\n",
       "       [73.2 ]])"
      ]
     },
     "execution_count": 29,
     "metadata": {},
     "output_type": "execute_result"
    }
   ],
   "source": [
    "def objective_derivative(X,y,w):\n",
    "    \"\"\"\n",
    "    Computes the derivative of the sum squared error, wrt the parameters.\n",
    "    \"\"\"\n",
    "    \n",
    "    grad = 2*X.T@X@w-2*X.T@y\n",
    "    \n",
    "    return grad\n",
    "objective_derivative(X,y,w)"
   ]
  },
  {
   "cell_type": "markdown",
   "metadata": {
    "id": "tgvPQtC0cYH_"
   },
   "source": [
    "To check my gradient function is correct, I can estimate the gradient numerically:"
   ]
  },
  {
   "cell_type": "code",
   "execution_count": 30,
   "metadata": {
    "id": "9MV54TG3cYH_"
   },
   "outputs": [],
   "source": [
    "def numerical_objective_derivative(X,y,w):\n",
    "    \"\"\"\n",
    "    Computes a numerical approximation to the derivative of the sum squared error, wrt the parameters.\n",
    "    \"\"\"\n",
    "    g = np.zeros_like(w)\n",
    "    for i,wi in enumerate(w):\n",
    "        d = np.zeros_like(w)\n",
    "        d[i]=1e-6\n",
    "        g[i] = (objective(X,y,w+d)-objective(X,y,w-d))/2e-6\n",
    "    return g"
   ]
  },
  {
   "cell_type": "markdown",
   "metadata": {
    "id": "42SCGt-0cYIA"
   },
   "source": [
    "The two gradient vectors should be approximately equal:"
   ]
  },
  {
   "cell_type": "code",
   "execution_count": 31,
   "metadata": {
    "id": "zuRzN4-xcYIA"
   },
   "outputs": [
    {
     "data": {
      "text/plain": [
       "(array([[39.28],\n",
       "        [73.2 ]]),\n",
       " array([[39.28],\n",
       "        [73.2 ]]))"
      ]
     },
     "execution_count": 31,
     "metadata": {},
     "output_type": "execute_result"
    }
   ],
   "source": [
    "objective_derivative(X,y,w),numerical_objective_derivative(X,y,w)"
   ]
  },
  {
   "cell_type": "markdown",
   "metadata": {
    "id": "-58158ZjcYIA"
   },
   "source": [
    "### Optimise $\\mathbf{w}$ to minimise the objective\n",
    "\n",
    "Now I have used the gradient function that I've written to maximise $\\mathbf{w}$ using gradient descent. I've looped 1000 times. At each iteration: I've compute the gradient and subtracted the scaled gradient from the w parameter (scaling by the learning rate, of e.g. 0.01)."
   ]
  },
  {
   "cell_type": "code",
   "execution_count": 32,
   "metadata": {
    "id": "eq9GtHEAcYIB"
   },
   "outputs": [],
   "source": [
    "def optimise_parameters(X,y,startw):\n",
    "    \"\"\"\n",
    "    Returns the w that minimises the objective.\n",
    "    \"\"\"\n",
    "    #Put answer here\n",
    "    \n",
    "    n_iters = 1000\n",
    "    lr = 0.01\n",
    "    for i in range(n_iters):\n",
    "        grad = objective_derivative(X,y,startw)\n",
    "        startw = startw - lr*grad\n",
    "    \n",
    "    return startw"
   ]
  },
  {
   "cell_type": "code",
   "execution_count": 33,
   "metadata": {
    "id": "tmbmC6B5cYIB"
   },
   "outputs": [
    {
     "name": "stdout",
     "output_type": "stream",
     "text": [
      "[[0.8333238]\n",
      " [0.0555608]]\n"
     ]
    }
   ],
   "source": [
    "bestw = optimise_parameters(X,y,w)\n",
    "print(bestw) #print our solution"
   ]
  },
  {
   "cell_type": "markdown",
   "metadata": {
    "id": "TG713sjPcYIB"
   },
   "source": [
    "I've compared this to the answer provided by sklearn:"
   ]
  },
  {
   "cell_type": "code",
   "execution_count": 34,
   "metadata": {
    "id": "0qzeBjibcYIC"
   },
   "outputs": [
    {
     "name": "stdout",
     "output_type": "stream",
     "text": [
      "[[0.83333333 0.05555556]]\n"
     ]
    }
   ],
   "source": [
    "from sklearn import linear_model\n",
    "clf = linear_model.LinearRegression(fit_intercept=False)\n",
    "clf.fit(X,y)\n",
    "print(clf.coef_) #matches the value of w we found above, hopefully!"
   ]
  },
  {
   "cell_type": "markdown",
   "metadata": {
    "id": "Pn_4IihFcYIC"
   },
   "source": [
    "## Lasso Regression\n",
    "\n",
    "###  New Objective Function \n",
    "\n",
    "I'm now going to regularise the regression using $L_1$ regularisation - i.e. Lasso regression.\n",
    "\n",
    "So I have written the **new objective function**:\n",
    "\n",
    "$$E = \\frac{1}{2N}\\sum_{i=1}^N \\big(y_i-f(\\mathbf{x}_i,\\mathbf{w}) \\big)^2 + \\alpha \\sum_{j=1}^P |w_j|$$\n",
    "\n",
    "This is similar to before (but the first term is now half the mean squared error, rather than the sum squared error). The second term is the L1 regularisation term."
   ]
  },
  {
   "cell_type": "code",
   "execution_count": 35,
   "metadata": {
    "id": "dl24ORnocYID"
   },
   "outputs": [],
   "source": [
    "def objective_lasso(X,y,w,alpha):\n",
    "    \"\"\"\n",
    "    Computes half the mean squared error, with an additional L1 regularising term. alpha controls the level of regularisation.\n",
    "    \"\"\"\n",
    "    \n",
    "    N=len(X)\n",
    "    shape = (np.shape(w)[0],1)\n",
    "    I = np.ones(shape)\n",
    "    \n",
    "    error = (1/(2*N))*(y.T-w.T@X.T)@(y-X@w)+alpha*w.T@I\n",
    "    \n",
    "    return error"
   ]
  },
  {
   "cell_type": "markdown",
   "metadata": {
    "id": "FL_qwDiocYID"
   },
   "source": [
    "###  The gradient of the lasso regression objective \n",
    "\n",
    "The tricky bit the derivative of the objective.\n",
    "\n",
    "The first part is similar to before. So, with the regularising term, the derivative is:\n",
    "$$\\frac{\\partial E}{\\partial \\mathbf{w}} = \\frac{1}{N}(X^\\top X \\mathbf{w} - X^\\top y) + \\alpha\\;\\text{sign}(\\mathbf{w})$$\n",
    "\n",
    "where $\\text{sign}(\\mathbf{w})$ returns a vector of the same shape as $\\mathbf{w}$ with +1 if the element is positive and -1 if it's negative. The `np.sign` method does this.\n",
    "\n",
    "Note: Differentiating $\\mathbf{w}$ wrt. itself should return an $\\mathbf{identity}$ vector, having same dimension as w. Hence that identity vector has +1 or -1 depending on the sign of the corresponding elements in the vector w."
   ]
  },
  {
   "cell_type": "code",
   "execution_count": 36,
   "metadata": {
    "id": "0cCZM2kDcYID"
   },
   "outputs": [],
   "source": [
    "def objective_lasso_derivative(X,y,w,alpha):\n",
    "    \"\"\"\n",
    "    Returns the derivative of the Lasso objective function.\n",
    "    \"\"\"\n",
    "    N=len(X)\n",
    "    gradient = (1/N)*(X.T@X@w-X.T@y)+alpha*np.sign(w)\n",
    "    return gradient"
   ]
  },
  {
   "cell_type": "markdown",
   "metadata": {
    "id": "F8BaS8g5cYIE"
   },
   "source": [
    "I've checked it again numerically. The two pairs of parameters should be the same:"
   ]
  },
  {
   "cell_type": "code",
   "execution_count": 37,
   "metadata": {
    "id": "V0aMgXBEcYIE"
   },
   "outputs": [
    {
     "data": {
      "text/plain": [
       "(array([[ 6.64666667],\n",
       "        [12.3       ]]),\n",
       " array([[ 6.64666667],\n",
       "        [12.3       ]]))"
      ]
     },
     "execution_count": 37,
     "metadata": {},
     "output_type": "execute_result"
    }
   ],
   "source": [
    "def numerical_objective_lasso_derivative(X,y,w,alpha):\n",
    "    \"\"\"\n",
    "    This finds a numerical approximation to the true gradient\n",
    "    \"\"\"\n",
    "    g = np.zeros_like(w)\n",
    "    for i,wi in enumerate(w):\n",
    "        d = np.zeros_like(w)\n",
    "        d[i]=1e-6\n",
    "        g[i] = (objective_lasso(X,y,w+d,alpha)-objective_lasso(X,y,w-d,alpha))/2e-6\n",
    "    return g\n",
    "\n",
    "objective_lasso_derivative(X,y,w,0.1),numerical_objective_lasso_derivative(X,y,w,0.1)"
   ]
  },
  {
   "cell_type": "markdown",
   "metadata": {
    "id": "B-m4LjUHcYIE"
   },
   "source": [
    "### Optimise $\\mathbf{w}$ to minimise the Lasso objective \n",
    "\n",
    "As before I need to optimise to find the optimum value of $\\mathbf{w}$, for this Lasso objective.\n",
    "We need to loop lots of times (e.g. 5000). At each iteration: I've computed the gradient and subtracted the scaled gradient from the w parameter (scaling it by the learning rate, of e.g. 0.05)."
   ]
  },
  {
   "cell_type": "code",
   "execution_count": 38,
   "metadata": {
    "id": "QpsfOgxFcYIF"
   },
   "outputs": [
    {
     "data": {
      "text/plain": [
       "array([[0.63888889],\n",
       "       [0.14259259]])"
      ]
     },
     "execution_count": 38,
     "metadata": {},
     "output_type": "execute_result"
    }
   ],
   "source": [
    "def optimise_parameters_lasso(X,y,startw):\n",
    "    \"\"\"\n",
    "    Returns the w that minimises the Lasso objective.\n",
    "    \"\"\"\n",
    "    n_iters = 5000\n",
    "    lr = 0.05\n",
    "    alpha = 0.1\n",
    "    for i in range(n_iters):\n",
    "        grad = objective_lasso_derivative(X,y,startw,alpha)\n",
    "        startw = startw - lr*grad\n",
    "    return startw\n",
    "\n",
    "\n",
    "optimise_parameters_lasso(X,y,w)"
   ]
  },
  {
   "cell_type": "markdown",
   "metadata": {
    "id": "GK2UPtJHcYIG"
   },
   "source": [
    "I've checked against the sklearn method:"
   ]
  },
  {
   "cell_type": "code",
   "execution_count": 39,
   "metadata": {
    "id": "APPYBmk_cYIG"
   },
   "outputs": [
    {
     "name": "stdout",
     "output_type": "stream",
     "text": [
      "[0.63931263 0.1423666 ]\n"
     ]
    }
   ],
   "source": [
    "clf = linear_model.Lasso(alpha=0.1,fit_intercept=False)\n",
    "clf.fit(X,y)\n",
    "print(clf.coef_)"
   ]
  },
  {
   "cell_type": "markdown",
   "metadata": {
    "id": "438cqaLtcYIH"
   },
   "source": [
    "The above result is approximately same as the one I computed."
   ]
  },
  {
   "cell_type": "markdown",
   "metadata": {
    "id": "D5c76jIVcYIH"
   },
   "source": [
    "# Back to air pollution\n",
    "\n",
    "###  One-hot-encoding\n",
    "\n",
    "One of the columns isn't numerical, but instead is a string type: The wind direction. The best way to deal with this is one-hot-encoding.\n",
    "\n",
    "The following steps have been followed:\n",
    "\n",
    "1. Make the one-hot encoding table using the code above.\n",
    "2. Delete the `wd` column from our table (hint: you did this earlier for other columns).\n",
    "3. Join the one hot data to the table. To do this use something like `dataframe1.join(dataframe2)`.\n",
    "\n"
   ]
  },
  {
   "cell_type": "code",
   "execution_count": 40,
   "metadata": {
    "id": "4hUiiPE2cYII"
   },
   "outputs": [
    {
     "data": {
      "text/html": [
       "<div>\n",
       "<style scoped>\n",
       "    .dataframe tbody tr th:only-of-type {\n",
       "        vertical-align: middle;\n",
       "    }\n",
       "\n",
       "    .dataframe tbody tr th {\n",
       "        vertical-align: top;\n",
       "    }\n",
       "\n",
       "    .dataframe thead th {\n",
       "        text-align: right;\n",
       "    }\n",
       "</style>\n",
       "<table border=\"1\" class=\"dataframe\">\n",
       "  <thead>\n",
       "    <tr style=\"text-align: right;\">\n",
       "      <th></th>\n",
       "      <th>PM2.5</th>\n",
       "      <th>hour</th>\n",
       "      <th>TEMP</th>\n",
       "      <th>PRES</th>\n",
       "      <th>DEWP</th>\n",
       "      <th>RAIN</th>\n",
       "      <th>WSPM</th>\n",
       "      <th>direction_E</th>\n",
       "      <th>direction_ENE</th>\n",
       "      <th>direction_ESE</th>\n",
       "      <th>...</th>\n",
       "      <th>direction_NNW</th>\n",
       "      <th>direction_NW</th>\n",
       "      <th>direction_S</th>\n",
       "      <th>direction_SE</th>\n",
       "      <th>direction_SSE</th>\n",
       "      <th>direction_SSW</th>\n",
       "      <th>direction_SW</th>\n",
       "      <th>direction_W</th>\n",
       "      <th>direction_WNW</th>\n",
       "      <th>direction_WSW</th>\n",
       "    </tr>\n",
       "    <tr>\n",
       "      <th>No</th>\n",
       "      <th></th>\n",
       "      <th></th>\n",
       "      <th></th>\n",
       "      <th></th>\n",
       "      <th></th>\n",
       "      <th></th>\n",
       "      <th></th>\n",
       "      <th></th>\n",
       "      <th></th>\n",
       "      <th></th>\n",
       "      <th></th>\n",
       "      <th></th>\n",
       "      <th></th>\n",
       "      <th></th>\n",
       "      <th></th>\n",
       "      <th></th>\n",
       "      <th></th>\n",
       "      <th></th>\n",
       "      <th></th>\n",
       "      <th></th>\n",
       "      <th></th>\n",
       "    </tr>\n",
       "  </thead>\n",
       "  <tbody>\n",
       "    <tr>\n",
       "      <th>1</th>\n",
       "      <td>9.0</td>\n",
       "      <td>0</td>\n",
       "      <td>0.3</td>\n",
       "      <td>1021.9</td>\n",
       "      <td>-19.0</td>\n",
       "      <td>0.0</td>\n",
       "      <td>2.0</td>\n",
       "      <td>0</td>\n",
       "      <td>0</td>\n",
       "      <td>0</td>\n",
       "      <td>...</td>\n",
       "      <td>0</td>\n",
       "      <td>0</td>\n",
       "      <td>0</td>\n",
       "      <td>0</td>\n",
       "      <td>0</td>\n",
       "      <td>0</td>\n",
       "      <td>0</td>\n",
       "      <td>0</td>\n",
       "      <td>1</td>\n",
       "      <td>0</td>\n",
       "    </tr>\n",
       "    <tr>\n",
       "      <th>2</th>\n",
       "      <td>11.0</td>\n",
       "      <td>1</td>\n",
       "      <td>-0.1</td>\n",
       "      <td>1022.4</td>\n",
       "      <td>-19.3</td>\n",
       "      <td>0.0</td>\n",
       "      <td>4.4</td>\n",
       "      <td>0</td>\n",
       "      <td>0</td>\n",
       "      <td>0</td>\n",
       "      <td>...</td>\n",
       "      <td>0</td>\n",
       "      <td>0</td>\n",
       "      <td>0</td>\n",
       "      <td>0</td>\n",
       "      <td>0</td>\n",
       "      <td>0</td>\n",
       "      <td>0</td>\n",
       "      <td>0</td>\n",
       "      <td>1</td>\n",
       "      <td>0</td>\n",
       "    </tr>\n",
       "    <tr>\n",
       "      <th>3</th>\n",
       "      <td>8.0</td>\n",
       "      <td>2</td>\n",
       "      <td>-0.6</td>\n",
       "      <td>1022.6</td>\n",
       "      <td>-19.7</td>\n",
       "      <td>0.0</td>\n",
       "      <td>4.7</td>\n",
       "      <td>0</td>\n",
       "      <td>0</td>\n",
       "      <td>0</td>\n",
       "      <td>...</td>\n",
       "      <td>0</td>\n",
       "      <td>0</td>\n",
       "      <td>0</td>\n",
       "      <td>0</td>\n",
       "      <td>0</td>\n",
       "      <td>0</td>\n",
       "      <td>0</td>\n",
       "      <td>0</td>\n",
       "      <td>1</td>\n",
       "      <td>0</td>\n",
       "    </tr>\n",
       "    <tr>\n",
       "      <th>4</th>\n",
       "      <td>8.0</td>\n",
       "      <td>3</td>\n",
       "      <td>-0.7</td>\n",
       "      <td>1023.5</td>\n",
       "      <td>-20.9</td>\n",
       "      <td>0.0</td>\n",
       "      <td>2.6</td>\n",
       "      <td>0</td>\n",
       "      <td>0</td>\n",
       "      <td>0</td>\n",
       "      <td>...</td>\n",
       "      <td>0</td>\n",
       "      <td>1</td>\n",
       "      <td>0</td>\n",
       "      <td>0</td>\n",
       "      <td>0</td>\n",
       "      <td>0</td>\n",
       "      <td>0</td>\n",
       "      <td>0</td>\n",
       "      <td>0</td>\n",
       "      <td>0</td>\n",
       "    </tr>\n",
       "    <tr>\n",
       "      <th>5</th>\n",
       "      <td>8.0</td>\n",
       "      <td>4</td>\n",
       "      <td>-0.9</td>\n",
       "      <td>1024.1</td>\n",
       "      <td>-21.7</td>\n",
       "      <td>0.0</td>\n",
       "      <td>2.5</td>\n",
       "      <td>0</td>\n",
       "      <td>0</td>\n",
       "      <td>0</td>\n",
       "      <td>...</td>\n",
       "      <td>0</td>\n",
       "      <td>0</td>\n",
       "      <td>0</td>\n",
       "      <td>0</td>\n",
       "      <td>0</td>\n",
       "      <td>0</td>\n",
       "      <td>0</td>\n",
       "      <td>0</td>\n",
       "      <td>1</td>\n",
       "      <td>0</td>\n",
       "    </tr>\n",
       "    <tr>\n",
       "      <th>...</th>\n",
       "      <td>...</td>\n",
       "      <td>...</td>\n",
       "      <td>...</td>\n",
       "      <td>...</td>\n",
       "      <td>...</td>\n",
       "      <td>...</td>\n",
       "      <td>...</td>\n",
       "      <td>...</td>\n",
       "      <td>...</td>\n",
       "      <td>...</td>\n",
       "      <td>...</td>\n",
       "      <td>...</td>\n",
       "      <td>...</td>\n",
       "      <td>...</td>\n",
       "      <td>...</td>\n",
       "      <td>...</td>\n",
       "      <td>...</td>\n",
       "      <td>...</td>\n",
       "      <td>...</td>\n",
       "      <td>...</td>\n",
       "      <td>...</td>\n",
       "    </tr>\n",
       "    <tr>\n",
       "      <th>29761</th>\n",
       "      <td>145.0</td>\n",
       "      <td>0</td>\n",
       "      <td>27.7</td>\n",
       "      <td>997.1</td>\n",
       "      <td>24.3</td>\n",
       "      <td>0.0</td>\n",
       "      <td>0.9</td>\n",
       "      <td>0</td>\n",
       "      <td>0</td>\n",
       "      <td>0</td>\n",
       "      <td>...</td>\n",
       "      <td>0</td>\n",
       "      <td>0</td>\n",
       "      <td>0</td>\n",
       "      <td>0</td>\n",
       "      <td>0</td>\n",
       "      <td>1</td>\n",
       "      <td>0</td>\n",
       "      <td>0</td>\n",
       "      <td>0</td>\n",
       "      <td>0</td>\n",
       "    </tr>\n",
       "    <tr>\n",
       "      <th>29762</th>\n",
       "      <td>139.0</td>\n",
       "      <td>1</td>\n",
       "      <td>26.9</td>\n",
       "      <td>996.6</td>\n",
       "      <td>24.6</td>\n",
       "      <td>0.0</td>\n",
       "      <td>0.8</td>\n",
       "      <td>1</td>\n",
       "      <td>0</td>\n",
       "      <td>0</td>\n",
       "      <td>...</td>\n",
       "      <td>0</td>\n",
       "      <td>0</td>\n",
       "      <td>0</td>\n",
       "      <td>0</td>\n",
       "      <td>0</td>\n",
       "      <td>0</td>\n",
       "      <td>0</td>\n",
       "      <td>0</td>\n",
       "      <td>0</td>\n",
       "      <td>0</td>\n",
       "    </tr>\n",
       "    <tr>\n",
       "      <th>29763</th>\n",
       "      <td>128.0</td>\n",
       "      <td>2</td>\n",
       "      <td>26.6</td>\n",
       "      <td>996.3</td>\n",
       "      <td>24.8</td>\n",
       "      <td>0.0</td>\n",
       "      <td>0.4</td>\n",
       "      <td>0</td>\n",
       "      <td>0</td>\n",
       "      <td>0</td>\n",
       "      <td>...</td>\n",
       "      <td>0</td>\n",
       "      <td>0</td>\n",
       "      <td>0</td>\n",
       "      <td>0</td>\n",
       "      <td>0</td>\n",
       "      <td>0</td>\n",
       "      <td>0</td>\n",
       "      <td>0</td>\n",
       "      <td>0</td>\n",
       "      <td>0</td>\n",
       "    </tr>\n",
       "    <tr>\n",
       "      <th>29764</th>\n",
       "      <td>116.0</td>\n",
       "      <td>3</td>\n",
       "      <td>26.4</td>\n",
       "      <td>996.2</td>\n",
       "      <td>24.6</td>\n",
       "      <td>0.0</td>\n",
       "      <td>0.9</td>\n",
       "      <td>1</td>\n",
       "      <td>0</td>\n",
       "      <td>0</td>\n",
       "      <td>...</td>\n",
       "      <td>0</td>\n",
       "      <td>0</td>\n",
       "      <td>0</td>\n",
       "      <td>0</td>\n",
       "      <td>0</td>\n",
       "      <td>0</td>\n",
       "      <td>0</td>\n",
       "      <td>0</td>\n",
       "      <td>0</td>\n",
       "      <td>0</td>\n",
       "    </tr>\n",
       "    <tr>\n",
       "      <th>29766</th>\n",
       "      <td>119.0</td>\n",
       "      <td>5</td>\n",
       "      <td>25.9</td>\n",
       "      <td>996.8</td>\n",
       "      <td>24.9</td>\n",
       "      <td>0.0</td>\n",
       "      <td>0.5</td>\n",
       "      <td>1</td>\n",
       "      <td>0</td>\n",
       "      <td>0</td>\n",
       "      <td>...</td>\n",
       "      <td>0</td>\n",
       "      <td>0</td>\n",
       "      <td>0</td>\n",
       "      <td>0</td>\n",
       "      <td>0</td>\n",
       "      <td>0</td>\n",
       "      <td>0</td>\n",
       "      <td>0</td>\n",
       "      <td>0</td>\n",
       "      <td>0</td>\n",
       "    </tr>\n",
       "  </tbody>\n",
       "</table>\n",
       "<p>29142 rows × 23 columns</p>\n",
       "</div>"
      ],
      "text/plain": [
       "       PM2.5  hour  TEMP    PRES  DEWP  RAIN  WSPM  direction_E  \\\n",
       "No                                                                \n",
       "1        9.0     0   0.3  1021.9 -19.0   0.0   2.0            0   \n",
       "2       11.0     1  -0.1  1022.4 -19.3   0.0   4.4            0   \n",
       "3        8.0     2  -0.6  1022.6 -19.7   0.0   4.7            0   \n",
       "4        8.0     3  -0.7  1023.5 -20.9   0.0   2.6            0   \n",
       "5        8.0     4  -0.9  1024.1 -21.7   0.0   2.5            0   \n",
       "...      ...   ...   ...     ...   ...   ...   ...          ...   \n",
       "29761  145.0     0  27.7   997.1  24.3   0.0   0.9            0   \n",
       "29762  139.0     1  26.9   996.6  24.6   0.0   0.8            1   \n",
       "29763  128.0     2  26.6   996.3  24.8   0.0   0.4            0   \n",
       "29764  116.0     3  26.4   996.2  24.6   0.0   0.9            1   \n",
       "29766  119.0     5  25.9   996.8  24.9   0.0   0.5            1   \n",
       "\n",
       "       direction_ENE  direction_ESE  ...  direction_NNW  direction_NW  \\\n",
       "No                                   ...                                \n",
       "1                  0              0  ...              0             0   \n",
       "2                  0              0  ...              0             0   \n",
       "3                  0              0  ...              0             0   \n",
       "4                  0              0  ...              0             1   \n",
       "5                  0              0  ...              0             0   \n",
       "...              ...            ...  ...            ...           ...   \n",
       "29761              0              0  ...              0             0   \n",
       "29762              0              0  ...              0             0   \n",
       "29763              0              0  ...              0             0   \n",
       "29764              0              0  ...              0             0   \n",
       "29766              0              0  ...              0             0   \n",
       "\n",
       "       direction_S  direction_SE  direction_SSE  direction_SSW  direction_SW  \\\n",
       "No                                                                             \n",
       "1                0             0              0              0             0   \n",
       "2                0             0              0              0             0   \n",
       "3                0             0              0              0             0   \n",
       "4                0             0              0              0             0   \n",
       "5                0             0              0              0             0   \n",
       "...            ...           ...            ...            ...           ...   \n",
       "29761            0             0              0              1             0   \n",
       "29762            0             0              0              0             0   \n",
       "29763            0             0              0              0             0   \n",
       "29764            0             0              0              0             0   \n",
       "29766            0             0              0              0             0   \n",
       "\n",
       "       direction_W  direction_WNW  direction_WSW  \n",
       "No                                                \n",
       "1                0              1              0  \n",
       "2                0              1              0  \n",
       "3                0              1              0  \n",
       "4                0              0              0  \n",
       "5                0              1              0  \n",
       "...            ...            ...            ...  \n",
       "29761            0              0              0  \n",
       "29762            0              0              0  \n",
       "29763            0              0              0  \n",
       "29764            0              0              0  \n",
       "29766            0              0              0  \n",
       "\n",
       "[29142 rows x 23 columns]"
      ]
     },
     "execution_count": 40,
     "metadata": {},
     "output_type": "execute_result"
    }
   ],
   "source": [
    "def add_wd_onehot(df):\n",
    "    \"\"\"Add new one-hot encoding set of columns, removes the old column it's made from. Returns new dataframe.\"\"\"\n",
    "    # Get one hot encoding of columns 'vehicleType'\n",
    "    \n",
    "    enc_df = pd.get_dummies(df.wd, prefix = 'direction') # applying get_dummies on the 'direction' feature\n",
    "    \n",
    "    # Drop column as it is now encoded\n",
    "    drop = ['wd']\n",
    "    df = df.drop(drop, axis=1)\n",
    "\n",
    "    # Join the encoded df\n",
    "    df = df.join(enc_df)\n",
    "    \n",
    "    return df\n",
    "\n",
    "#you could use this code to see if it's worked?\n",
    "train_df_wdencoded = add_wd_onehot(train_df)\n",
    "train_df_wdencoded"
   ]
  },
  {
   "cell_type": "markdown",
   "metadata": {
    "id": "gR9m46ghcYIJ"
   },
   "source": [
    "###  Normalise the data \n",
    "\n",
    "Now we need to normalise the data. Normalising ensures faster convergence in order to get the optimal parameters."
   ]
  },
  {
   "cell_type": "code",
   "execution_count": 85,
   "metadata": {},
   "outputs": [
    {
     "data": {
      "text/plain": [
       "82.43162771002811"
      ]
     },
     "execution_count": 85,
     "metadata": {},
     "output_type": "execute_result"
    }
   ],
   "source": [
    "train_df_wdencoded.iloc[:,0:].std()[0]"
   ]
  },
  {
   "cell_type": "code",
   "execution_count": 86,
   "metadata": {
    "id": "ylCMFcVccYIJ"
   },
   "outputs": [],
   "source": [
    "def normalise(df):\n",
    "    \"\"\"\n",
    "    Returns a new dataframe in which all but the PM2.5 columns are normalised (i.e. have a mean of zero and standard deviation of 1)\n",
    "    \"\"\"\n",
    "    df = df.copy()\n",
    "    ncols = len(df.columns)\n",
    "    c = -1\n",
    "   # mean = df.iloc[:,0:].mean()\n",
    "    #sd =    df.iloc[:,0:].std()\n",
    "    for cols in df.columns:\n",
    "        c+=1\n",
    "        if(c==0): \n",
    "            continue\n",
    "        else:\n",
    "            \n",
    "            df[cols] = (df[cols]-df[cols].mean())/df[cols].std() #standardising every column of the dataframe other than the target column\n",
    "                \n",
    "    \n",
    "    return df\n",
    "\n",
    "train_df_preprocessed = normalise(add_wd_onehot(train_df))\n",
    "test_df_preprocessed = normalise(add_wd_onehot(test_df))"
   ]
  },
  {
   "cell_type": "code",
   "execution_count": 88,
   "metadata": {},
   "outputs": [
    {
     "data": {
      "text/html": [
       "<div>\n",
       "<style scoped>\n",
       "    .dataframe tbody tr th:only-of-type {\n",
       "        vertical-align: middle;\n",
       "    }\n",
       "\n",
       "    .dataframe tbody tr th {\n",
       "        vertical-align: top;\n",
       "    }\n",
       "\n",
       "    .dataframe thead th {\n",
       "        text-align: right;\n",
       "    }\n",
       "</style>\n",
       "<table border=\"1\" class=\"dataframe\">\n",
       "  <thead>\n",
       "    <tr style=\"text-align: right;\">\n",
       "      <th></th>\n",
       "      <th>PM2.5</th>\n",
       "      <th>hour</th>\n",
       "      <th>TEMP</th>\n",
       "      <th>PRES</th>\n",
       "      <th>DEWP</th>\n",
       "      <th>RAIN</th>\n",
       "      <th>WSPM</th>\n",
       "      <th>direction_E</th>\n",
       "      <th>direction_ENE</th>\n",
       "      <th>direction_ESE</th>\n",
       "      <th>...</th>\n",
       "      <th>direction_NNW</th>\n",
       "      <th>direction_NW</th>\n",
       "      <th>direction_S</th>\n",
       "      <th>direction_SE</th>\n",
       "      <th>direction_SSE</th>\n",
       "      <th>direction_SSW</th>\n",
       "      <th>direction_SW</th>\n",
       "      <th>direction_W</th>\n",
       "      <th>direction_WNW</th>\n",
       "      <th>direction_WSW</th>\n",
       "    </tr>\n",
       "    <tr>\n",
       "      <th>No</th>\n",
       "      <th></th>\n",
       "      <th></th>\n",
       "      <th></th>\n",
       "      <th></th>\n",
       "      <th></th>\n",
       "      <th></th>\n",
       "      <th></th>\n",
       "      <th></th>\n",
       "      <th></th>\n",
       "      <th></th>\n",
       "      <th></th>\n",
       "      <th></th>\n",
       "      <th></th>\n",
       "      <th></th>\n",
       "      <th></th>\n",
       "      <th></th>\n",
       "      <th></th>\n",
       "      <th></th>\n",
       "      <th></th>\n",
       "      <th></th>\n",
       "      <th></th>\n",
       "    </tr>\n",
       "  </thead>\n",
       "  <tbody>\n",
       "    <tr>\n",
       "      <th>1</th>\n",
       "      <td>9.0</td>\n",
       "      <td>-1.657934</td>\n",
       "      <td>-1.244560</td>\n",
       "      <td>1.080123</td>\n",
       "      <td>-1.612174</td>\n",
       "      <td>-0.084705</td>\n",
       "      <td>0.194075</td>\n",
       "      <td>-0.294441</td>\n",
       "      <td>-0.301269</td>\n",
       "      <td>-0.227157</td>\n",
       "      <td>...</td>\n",
       "      <td>-0.18176</td>\n",
       "      <td>-0.279380</td>\n",
       "      <td>-0.214772</td>\n",
       "      <td>-0.184064</td>\n",
       "      <td>-0.172276</td>\n",
       "      <td>-0.286033</td>\n",
       "      <td>-0.332933</td>\n",
       "      <td>-0.292856</td>\n",
       "      <td>3.325914</td>\n",
       "      <td>-0.293132</td>\n",
       "    </tr>\n",
       "    <tr>\n",
       "      <th>2</th>\n",
       "      <td>11.0</td>\n",
       "      <td>-1.513617</td>\n",
       "      <td>-1.280183</td>\n",
       "      <td>1.128020</td>\n",
       "      <td>-1.634213</td>\n",
       "      <td>-0.084705</td>\n",
       "      <td>2.157161</td>\n",
       "      <td>-0.294441</td>\n",
       "      <td>-0.301269</td>\n",
       "      <td>-0.227157</td>\n",
       "      <td>...</td>\n",
       "      <td>-0.18176</td>\n",
       "      <td>-0.279380</td>\n",
       "      <td>-0.214772</td>\n",
       "      <td>-0.184064</td>\n",
       "      <td>-0.172276</td>\n",
       "      <td>-0.286033</td>\n",
       "      <td>-0.332933</td>\n",
       "      <td>-0.292856</td>\n",
       "      <td>3.325914</td>\n",
       "      <td>-0.293132</td>\n",
       "    </tr>\n",
       "    <tr>\n",
       "      <th>3</th>\n",
       "      <td>8.0</td>\n",
       "      <td>-1.369301</td>\n",
       "      <td>-1.324712</td>\n",
       "      <td>1.147178</td>\n",
       "      <td>-1.663600</td>\n",
       "      <td>-0.084705</td>\n",
       "      <td>2.402547</td>\n",
       "      <td>-0.294441</td>\n",
       "      <td>-0.301269</td>\n",
       "      <td>-0.227157</td>\n",
       "      <td>...</td>\n",
       "      <td>-0.18176</td>\n",
       "      <td>-0.279380</td>\n",
       "      <td>-0.214772</td>\n",
       "      <td>-0.184064</td>\n",
       "      <td>-0.172276</td>\n",
       "      <td>-0.286033</td>\n",
       "      <td>-0.332933</td>\n",
       "      <td>-0.292856</td>\n",
       "      <td>3.325914</td>\n",
       "      <td>-0.293132</td>\n",
       "    </tr>\n",
       "    <tr>\n",
       "      <th>4</th>\n",
       "      <td>8.0</td>\n",
       "      <td>-1.224984</td>\n",
       "      <td>-1.333617</td>\n",
       "      <td>1.233393</td>\n",
       "      <td>-1.751759</td>\n",
       "      <td>-0.084705</td>\n",
       "      <td>0.684846</td>\n",
       "      <td>-0.294441</td>\n",
       "      <td>-0.301269</td>\n",
       "      <td>-0.227157</td>\n",
       "      <td>...</td>\n",
       "      <td>-0.18176</td>\n",
       "      <td>3.579237</td>\n",
       "      <td>-0.214772</td>\n",
       "      <td>-0.184064</td>\n",
       "      <td>-0.172276</td>\n",
       "      <td>-0.286033</td>\n",
       "      <td>-0.332933</td>\n",
       "      <td>-0.292856</td>\n",
       "      <td>-0.300659</td>\n",
       "      <td>-0.293132</td>\n",
       "    </tr>\n",
       "    <tr>\n",
       "      <th>5</th>\n",
       "      <td>8.0</td>\n",
       "      <td>-1.080667</td>\n",
       "      <td>-1.351429</td>\n",
       "      <td>1.290869</td>\n",
       "      <td>-1.810532</td>\n",
       "      <td>-0.084705</td>\n",
       "      <td>0.603051</td>\n",
       "      <td>-0.294441</td>\n",
       "      <td>-0.301269</td>\n",
       "      <td>-0.227157</td>\n",
       "      <td>...</td>\n",
       "      <td>-0.18176</td>\n",
       "      <td>-0.279380</td>\n",
       "      <td>-0.214772</td>\n",
       "      <td>-0.184064</td>\n",
       "      <td>-0.172276</td>\n",
       "      <td>-0.286033</td>\n",
       "      <td>-0.332933</td>\n",
       "      <td>-0.292856</td>\n",
       "      <td>3.325914</td>\n",
       "      <td>-0.293132</td>\n",
       "    </tr>\n",
       "    <tr>\n",
       "      <th>...</th>\n",
       "      <td>...</td>\n",
       "      <td>...</td>\n",
       "      <td>...</td>\n",
       "      <td>...</td>\n",
       "      <td>...</td>\n",
       "      <td>...</td>\n",
       "      <td>...</td>\n",
       "      <td>...</td>\n",
       "      <td>...</td>\n",
       "      <td>...</td>\n",
       "      <td>...</td>\n",
       "      <td>...</td>\n",
       "      <td>...</td>\n",
       "      <td>...</td>\n",
       "      <td>...</td>\n",
       "      <td>...</td>\n",
       "      <td>...</td>\n",
       "      <td>...</td>\n",
       "      <td>...</td>\n",
       "      <td>...</td>\n",
       "      <td>...</td>\n",
       "    </tr>\n",
       "    <tr>\n",
       "      <th>29761</th>\n",
       "      <td>145.0</td>\n",
       "      <td>-1.657934</td>\n",
       "      <td>1.195599</td>\n",
       "      <td>-1.295554</td>\n",
       "      <td>1.568912</td>\n",
       "      <td>-0.084705</td>\n",
       "      <td>-0.705673</td>\n",
       "      <td>-0.294441</td>\n",
       "      <td>-0.301269</td>\n",
       "      <td>-0.227157</td>\n",
       "      <td>...</td>\n",
       "      <td>-0.18176</td>\n",
       "      <td>-0.279380</td>\n",
       "      <td>-0.214772</td>\n",
       "      <td>-0.184064</td>\n",
       "      <td>-0.172276</td>\n",
       "      <td>3.495984</td>\n",
       "      <td>-0.332933</td>\n",
       "      <td>-0.292856</td>\n",
       "      <td>-0.300659</td>\n",
       "      <td>-0.293132</td>\n",
       "    </tr>\n",
       "    <tr>\n",
       "      <th>29762</th>\n",
       "      <td>139.0</td>\n",
       "      <td>-1.513617</td>\n",
       "      <td>1.124354</td>\n",
       "      <td>-1.343451</td>\n",
       "      <td>1.590952</td>\n",
       "      <td>-0.084705</td>\n",
       "      <td>-0.787468</td>\n",
       "      <td>3.396145</td>\n",
       "      <td>-0.301269</td>\n",
       "      <td>-0.227157</td>\n",
       "      <td>...</td>\n",
       "      <td>-0.18176</td>\n",
       "      <td>-0.279380</td>\n",
       "      <td>-0.214772</td>\n",
       "      <td>-0.184064</td>\n",
       "      <td>-0.172276</td>\n",
       "      <td>-0.286033</td>\n",
       "      <td>-0.332933</td>\n",
       "      <td>-0.292856</td>\n",
       "      <td>-0.300659</td>\n",
       "      <td>-0.293132</td>\n",
       "    </tr>\n",
       "    <tr>\n",
       "      <th>29763</th>\n",
       "      <td>128.0</td>\n",
       "      <td>-1.369301</td>\n",
       "      <td>1.097637</td>\n",
       "      <td>-1.372189</td>\n",
       "      <td>1.605645</td>\n",
       "      <td>-0.084705</td>\n",
       "      <td>-1.114649</td>\n",
       "      <td>-0.294441</td>\n",
       "      <td>-0.301269</td>\n",
       "      <td>-0.227157</td>\n",
       "      <td>...</td>\n",
       "      <td>-0.18176</td>\n",
       "      <td>-0.279380</td>\n",
       "      <td>-0.214772</td>\n",
       "      <td>-0.184064</td>\n",
       "      <td>-0.172276</td>\n",
       "      <td>-0.286033</td>\n",
       "      <td>-0.332933</td>\n",
       "      <td>-0.292856</td>\n",
       "      <td>-0.300659</td>\n",
       "      <td>-0.293132</td>\n",
       "    </tr>\n",
       "    <tr>\n",
       "      <th>29764</th>\n",
       "      <td>116.0</td>\n",
       "      <td>-1.224984</td>\n",
       "      <td>1.079825</td>\n",
       "      <td>-1.381768</td>\n",
       "      <td>1.590952</td>\n",
       "      <td>-0.084705</td>\n",
       "      <td>-0.705673</td>\n",
       "      <td>3.396145</td>\n",
       "      <td>-0.301269</td>\n",
       "      <td>-0.227157</td>\n",
       "      <td>...</td>\n",
       "      <td>-0.18176</td>\n",
       "      <td>-0.279380</td>\n",
       "      <td>-0.214772</td>\n",
       "      <td>-0.184064</td>\n",
       "      <td>-0.172276</td>\n",
       "      <td>-0.286033</td>\n",
       "      <td>-0.332933</td>\n",
       "      <td>-0.292856</td>\n",
       "      <td>-0.300659</td>\n",
       "      <td>-0.293132</td>\n",
       "    </tr>\n",
       "    <tr>\n",
       "      <th>29766</th>\n",
       "      <td>119.0</td>\n",
       "      <td>-0.936350</td>\n",
       "      <td>1.035297</td>\n",
       "      <td>-1.324292</td>\n",
       "      <td>1.612991</td>\n",
       "      <td>-0.084705</td>\n",
       "      <td>-1.032854</td>\n",
       "      <td>3.396145</td>\n",
       "      <td>-0.301269</td>\n",
       "      <td>-0.227157</td>\n",
       "      <td>...</td>\n",
       "      <td>-0.18176</td>\n",
       "      <td>-0.279380</td>\n",
       "      <td>-0.214772</td>\n",
       "      <td>-0.184064</td>\n",
       "      <td>-0.172276</td>\n",
       "      <td>-0.286033</td>\n",
       "      <td>-0.332933</td>\n",
       "      <td>-0.292856</td>\n",
       "      <td>-0.300659</td>\n",
       "      <td>-0.293132</td>\n",
       "    </tr>\n",
       "  </tbody>\n",
       "</table>\n",
       "<p>29142 rows × 23 columns</p>\n",
       "</div>"
      ],
      "text/plain": [
       "       PM2.5      hour      TEMP      PRES      DEWP      RAIN      WSPM  \\\n",
       "No                                                                         \n",
       "1        9.0 -1.657934 -1.244560  1.080123 -1.612174 -0.084705  0.194075   \n",
       "2       11.0 -1.513617 -1.280183  1.128020 -1.634213 -0.084705  2.157161   \n",
       "3        8.0 -1.369301 -1.324712  1.147178 -1.663600 -0.084705  2.402547   \n",
       "4        8.0 -1.224984 -1.333617  1.233393 -1.751759 -0.084705  0.684846   \n",
       "5        8.0 -1.080667 -1.351429  1.290869 -1.810532 -0.084705  0.603051   \n",
       "...      ...       ...       ...       ...       ...       ...       ...   \n",
       "29761  145.0 -1.657934  1.195599 -1.295554  1.568912 -0.084705 -0.705673   \n",
       "29762  139.0 -1.513617  1.124354 -1.343451  1.590952 -0.084705 -0.787468   \n",
       "29763  128.0 -1.369301  1.097637 -1.372189  1.605645 -0.084705 -1.114649   \n",
       "29764  116.0 -1.224984  1.079825 -1.381768  1.590952 -0.084705 -0.705673   \n",
       "29766  119.0 -0.936350  1.035297 -1.324292  1.612991 -0.084705 -1.032854   \n",
       "\n",
       "       direction_E  direction_ENE  direction_ESE  ...  direction_NNW  \\\n",
       "No                                                ...                  \n",
       "1        -0.294441      -0.301269      -0.227157  ...       -0.18176   \n",
       "2        -0.294441      -0.301269      -0.227157  ...       -0.18176   \n",
       "3        -0.294441      -0.301269      -0.227157  ...       -0.18176   \n",
       "4        -0.294441      -0.301269      -0.227157  ...       -0.18176   \n",
       "5        -0.294441      -0.301269      -0.227157  ...       -0.18176   \n",
       "...            ...            ...            ...  ...            ...   \n",
       "29761    -0.294441      -0.301269      -0.227157  ...       -0.18176   \n",
       "29762     3.396145      -0.301269      -0.227157  ...       -0.18176   \n",
       "29763    -0.294441      -0.301269      -0.227157  ...       -0.18176   \n",
       "29764     3.396145      -0.301269      -0.227157  ...       -0.18176   \n",
       "29766     3.396145      -0.301269      -0.227157  ...       -0.18176   \n",
       "\n",
       "       direction_NW  direction_S  direction_SE  direction_SSE  direction_SSW  \\\n",
       "No                                                                             \n",
       "1         -0.279380    -0.214772     -0.184064      -0.172276      -0.286033   \n",
       "2         -0.279380    -0.214772     -0.184064      -0.172276      -0.286033   \n",
       "3         -0.279380    -0.214772     -0.184064      -0.172276      -0.286033   \n",
       "4          3.579237    -0.214772     -0.184064      -0.172276      -0.286033   \n",
       "5         -0.279380    -0.214772     -0.184064      -0.172276      -0.286033   \n",
       "...             ...          ...           ...            ...            ...   \n",
       "29761     -0.279380    -0.214772     -0.184064      -0.172276       3.495984   \n",
       "29762     -0.279380    -0.214772     -0.184064      -0.172276      -0.286033   \n",
       "29763     -0.279380    -0.214772     -0.184064      -0.172276      -0.286033   \n",
       "29764     -0.279380    -0.214772     -0.184064      -0.172276      -0.286033   \n",
       "29766     -0.279380    -0.214772     -0.184064      -0.172276      -0.286033   \n",
       "\n",
       "       direction_SW  direction_W  direction_WNW  direction_WSW  \n",
       "No                                                              \n",
       "1         -0.332933    -0.292856       3.325914      -0.293132  \n",
       "2         -0.332933    -0.292856       3.325914      -0.293132  \n",
       "3         -0.332933    -0.292856       3.325914      -0.293132  \n",
       "4         -0.332933    -0.292856      -0.300659      -0.293132  \n",
       "5         -0.332933    -0.292856       3.325914      -0.293132  \n",
       "...             ...          ...            ...            ...  \n",
       "29761     -0.332933    -0.292856      -0.300659      -0.293132  \n",
       "29762     -0.332933    -0.292856      -0.300659      -0.293132  \n",
       "29763     -0.332933    -0.292856      -0.300659      -0.293132  \n",
       "29764     -0.332933    -0.292856      -0.300659      -0.293132  \n",
       "29766     -0.332933    -0.292856      -0.300659      -0.293132  \n",
       "\n",
       "[29142 rows x 23 columns]"
      ]
     },
     "execution_count": 88,
     "metadata": {},
     "output_type": "execute_result"
    }
   ],
   "source": [
    "train_df_preprocessed.iloc[:,0:] # As we can see, all the columns other than the target column has been normalised"
   ]
  },
  {
   "cell_type": "code",
   "execution_count": 89,
   "metadata": {},
   "outputs": [
    {
     "data": {
      "text/html": [
       "<div>\n",
       "<style scoped>\n",
       "    .dataframe tbody tr th:only-of-type {\n",
       "        vertical-align: middle;\n",
       "    }\n",
       "\n",
       "    .dataframe tbody tr th {\n",
       "        vertical-align: top;\n",
       "    }\n",
       "\n",
       "    .dataframe thead th {\n",
       "        text-align: right;\n",
       "    }\n",
       "</style>\n",
       "<table border=\"1\" class=\"dataframe\">\n",
       "  <thead>\n",
       "    <tr style=\"text-align: right;\">\n",
       "      <th></th>\n",
       "      <th>PM2.5</th>\n",
       "      <th>hour</th>\n",
       "      <th>TEMP</th>\n",
       "      <th>PRES</th>\n",
       "      <th>DEWP</th>\n",
       "      <th>RAIN</th>\n",
       "      <th>WSPM</th>\n",
       "      <th>direction_E</th>\n",
       "      <th>direction_ENE</th>\n",
       "      <th>direction_ESE</th>\n",
       "      <th>...</th>\n",
       "      <th>direction_NNW</th>\n",
       "      <th>direction_NW</th>\n",
       "      <th>direction_S</th>\n",
       "      <th>direction_SE</th>\n",
       "      <th>direction_SSE</th>\n",
       "      <th>direction_SSW</th>\n",
       "      <th>direction_SW</th>\n",
       "      <th>direction_W</th>\n",
       "      <th>direction_WNW</th>\n",
       "      <th>direction_WSW</th>\n",
       "    </tr>\n",
       "    <tr>\n",
       "      <th>No</th>\n",
       "      <th></th>\n",
       "      <th></th>\n",
       "      <th></th>\n",
       "      <th></th>\n",
       "      <th></th>\n",
       "      <th></th>\n",
       "      <th></th>\n",
       "      <th></th>\n",
       "      <th></th>\n",
       "      <th></th>\n",
       "      <th></th>\n",
       "      <th></th>\n",
       "      <th></th>\n",
       "      <th></th>\n",
       "      <th></th>\n",
       "      <th></th>\n",
       "      <th></th>\n",
       "      <th></th>\n",
       "      <th></th>\n",
       "      <th></th>\n",
       "      <th></th>\n",
       "    </tr>\n",
       "  </thead>\n",
       "  <tbody>\n",
       "    <tr>\n",
       "      <th>29766</th>\n",
       "      <td>119.0</td>\n",
       "      <td>-0.941233</td>\n",
       "      <td>1.290070</td>\n",
       "      <td>-2.011871</td>\n",
       "      <td>1.654614</td>\n",
       "      <td>-0.067506</td>\n",
       "      <td>-1.056180</td>\n",
       "      <td>3.277182</td>\n",
       "      <td>-0.367482</td>\n",
       "      <td>-0.253239</td>\n",
       "      <td>...</td>\n",
       "      <td>-0.218796</td>\n",
       "      <td>-0.288404</td>\n",
       "      <td>-0.194767</td>\n",
       "      <td>-0.244875</td>\n",
       "      <td>-0.180899</td>\n",
       "      <td>-0.195304</td>\n",
       "      <td>-0.306222</td>\n",
       "      <td>-0.147823</td>\n",
       "      <td>-0.147134</td>\n",
       "      <td>-0.192062</td>\n",
       "    </tr>\n",
       "    <tr>\n",
       "      <th>29767</th>\n",
       "      <td>128.0</td>\n",
       "      <td>-0.796603</td>\n",
       "      <td>1.315659</td>\n",
       "      <td>-1.961072</td>\n",
       "      <td>1.675583</td>\n",
       "      <td>-0.067506</td>\n",
       "      <td>-1.056180</td>\n",
       "      <td>3.277182</td>\n",
       "      <td>-0.367482</td>\n",
       "      <td>-0.253239</td>\n",
       "      <td>...</td>\n",
       "      <td>-0.218796</td>\n",
       "      <td>-0.288404</td>\n",
       "      <td>-0.194767</td>\n",
       "      <td>-0.244875</td>\n",
       "      <td>-0.180899</td>\n",
       "      <td>-0.195304</td>\n",
       "      <td>-0.306222</td>\n",
       "      <td>-0.147823</td>\n",
       "      <td>-0.147134</td>\n",
       "      <td>-0.192062</td>\n",
       "    </tr>\n",
       "    <tr>\n",
       "      <th>29768</th>\n",
       "      <td>116.0</td>\n",
       "      <td>-0.651973</td>\n",
       "      <td>1.358307</td>\n",
       "      <td>-1.930592</td>\n",
       "      <td>1.696552</td>\n",
       "      <td>-0.067506</td>\n",
       "      <td>-1.056180</td>\n",
       "      <td>3.277182</td>\n",
       "      <td>-0.367482</td>\n",
       "      <td>-0.253239</td>\n",
       "      <td>...</td>\n",
       "      <td>-0.218796</td>\n",
       "      <td>-0.288404</td>\n",
       "      <td>-0.194767</td>\n",
       "      <td>-0.244875</td>\n",
       "      <td>-0.180899</td>\n",
       "      <td>-0.195304</td>\n",
       "      <td>-0.306222</td>\n",
       "      <td>-0.147823</td>\n",
       "      <td>-0.147134</td>\n",
       "      <td>-0.192062</td>\n",
       "    </tr>\n",
       "    <tr>\n",
       "      <th>29769</th>\n",
       "      <td>123.0</td>\n",
       "      <td>-0.507343</td>\n",
       "      <td>1.418014</td>\n",
       "      <td>-1.950912</td>\n",
       "      <td>1.675583</td>\n",
       "      <td>-0.067506</td>\n",
       "      <td>-0.597200</td>\n",
       "      <td>-0.305081</td>\n",
       "      <td>-0.367482</td>\n",
       "      <td>-0.253239</td>\n",
       "      <td>...</td>\n",
       "      <td>-0.218796</td>\n",
       "      <td>-0.288404</td>\n",
       "      <td>-0.194767</td>\n",
       "      <td>-0.244875</td>\n",
       "      <td>-0.180899</td>\n",
       "      <td>-0.195304</td>\n",
       "      <td>-0.306222</td>\n",
       "      <td>-0.147823</td>\n",
       "      <td>-0.147134</td>\n",
       "      <td>-0.192062</td>\n",
       "    </tr>\n",
       "    <tr>\n",
       "      <th>29770</th>\n",
       "      <td>148.0</td>\n",
       "      <td>-0.362714</td>\n",
       "      <td>1.460663</td>\n",
       "      <td>-1.940752</td>\n",
       "      <td>1.696552</td>\n",
       "      <td>-0.067506</td>\n",
       "      <td>-0.505404</td>\n",
       "      <td>-0.305081</td>\n",
       "      <td>-0.367482</td>\n",
       "      <td>-0.253239</td>\n",
       "      <td>...</td>\n",
       "      <td>-0.218796</td>\n",
       "      <td>-0.288404</td>\n",
       "      <td>-0.194767</td>\n",
       "      <td>-0.244875</td>\n",
       "      <td>-0.180899</td>\n",
       "      <td>-0.195304</td>\n",
       "      <td>-0.306222</td>\n",
       "      <td>-0.147823</td>\n",
       "      <td>-0.147134</td>\n",
       "      <td>-0.192062</td>\n",
       "    </tr>\n",
       "  </tbody>\n",
       "</table>\n",
       "<p>5 rows × 23 columns</p>\n",
       "</div>"
      ],
      "text/plain": [
       "       PM2.5      hour      TEMP      PRES      DEWP      RAIN      WSPM  \\\n",
       "No                                                                         \n",
       "29766  119.0 -0.941233  1.290070 -2.011871  1.654614 -0.067506 -1.056180   \n",
       "29767  128.0 -0.796603  1.315659 -1.961072  1.675583 -0.067506 -1.056180   \n",
       "29768  116.0 -0.651973  1.358307 -1.930592  1.696552 -0.067506 -1.056180   \n",
       "29769  123.0 -0.507343  1.418014 -1.950912  1.675583 -0.067506 -0.597200   \n",
       "29770  148.0 -0.362714  1.460663 -1.940752  1.696552 -0.067506 -0.505404   \n",
       "\n",
       "       direction_E  direction_ENE  direction_ESE  ...  direction_NNW  \\\n",
       "No                                                ...                  \n",
       "29766     3.277182      -0.367482      -0.253239  ...      -0.218796   \n",
       "29767     3.277182      -0.367482      -0.253239  ...      -0.218796   \n",
       "29768     3.277182      -0.367482      -0.253239  ...      -0.218796   \n",
       "29769    -0.305081      -0.367482      -0.253239  ...      -0.218796   \n",
       "29770    -0.305081      -0.367482      -0.253239  ...      -0.218796   \n",
       "\n",
       "       direction_NW  direction_S  direction_SE  direction_SSE  direction_SSW  \\\n",
       "No                                                                             \n",
       "29766     -0.288404    -0.194767     -0.244875      -0.180899      -0.195304   \n",
       "29767     -0.288404    -0.194767     -0.244875      -0.180899      -0.195304   \n",
       "29768     -0.288404    -0.194767     -0.244875      -0.180899      -0.195304   \n",
       "29769     -0.288404    -0.194767     -0.244875      -0.180899      -0.195304   \n",
       "29770     -0.288404    -0.194767     -0.244875      -0.180899      -0.195304   \n",
       "\n",
       "       direction_SW  direction_W  direction_WNW  direction_WSW  \n",
       "No                                                              \n",
       "29766     -0.306222    -0.147823      -0.147134      -0.192062  \n",
       "29767     -0.306222    -0.147823      -0.147134      -0.192062  \n",
       "29768     -0.306222    -0.147823      -0.147134      -0.192062  \n",
       "29769     -0.306222    -0.147823      -0.147134      -0.192062  \n",
       "29770     -0.306222    -0.147823      -0.147134      -0.192062  \n",
       "\n",
       "[5 rows x 23 columns]"
      ]
     },
     "execution_count": 89,
     "metadata": {},
     "output_type": "execute_result"
    }
   ],
   "source": [
    "test_df_preprocessed.head(5)"
   ]
  },
  {
   "cell_type": "markdown",
   "metadata": {
    "id": "7cUc5TFLcYIJ"
   },
   "source": [
    "Here I've put the training and test inputs (X) and outputs (y) into four variables:"
   ]
  },
  {
   "cell_type": "code",
   "execution_count": 90,
   "metadata": {
    "id": "9reEdwwjcYIJ"
   },
   "outputs": [],
   "source": [
    "# Splitiing the training dataframe into inputs X and output Y\n",
    "X = train_df_preprocessed.iloc[:,1:].to_numpy() \n",
    "y = train_df_preprocessed.iloc[:,0].to_numpy()\n",
    "\n",
    "# Splitiing the test dataframe into inputs Xtest and output ytest\n",
    "Xtest = test_df_preprocessed.iloc[:,1:].to_numpy()\n",
    "ytest = test_df_preprocessed.iloc[:,0].to_numpy()"
   ]
  },
  {
   "cell_type": "markdown",
   "metadata": {
    "id": "7Cbnx-YWcYIK"
   },
   "source": [
    "I get the predictions by Lasso regression model from the sklearn.\n",
    "\n",
    "### Finding the RMSE of the Lasso regressor predictions \n",
    "\n",
    "Next I compute the **RMSE** of the predictions for (a) the training data and (b) the test data."
   ]
  },
  {
   "cell_type": "code",
   "execution_count": 91,
   "metadata": {},
   "outputs": [
    {
     "data": {
      "text/plain": [
       "22"
      ]
     },
     "execution_count": 91,
     "metadata": {},
     "output_type": "execute_result"
    }
   ],
   "source": [
    "X.shape[1]"
   ]
  },
  {
   "cell_type": "code",
   "execution_count": 92,
   "metadata": {},
   "outputs": [
    {
     "data": {
      "text/plain": [
       "Lasso(alpha=0.25, copy_X=True, fit_intercept=True, max_iter=1000,\n",
       "      normalize=False, positive=False, precompute=False, random_state=None,\n",
       "      selection='random', tol=0.0001, warm_start=False)"
      ]
     },
     "execution_count": 92,
     "metadata": {},
     "output_type": "execute_result"
    }
   ],
   "source": [
    "clf = linear_model.Lasso(alpha=0.25,fit_intercept=True,selection='random') #defining our model\n",
    "clf.fit(X,y) #fitting it on the training dataframe"
   ]
  },
  {
   "cell_type": "code",
   "execution_count": 93,
   "metadata": {},
   "outputs": [],
   "source": [
    "#Getting the predictions for training data\n",
    "y_train_hat = clf.predict(X)\n",
    "\n",
    "#Getting the predictions for test data\n",
    "y_test_hat = clf.predict(Xtest)"
   ]
  },
  {
   "cell_type": "code",
   "execution_count": 94,
   "metadata": {
    "id": "m6HCR6qWcYIK"
   },
   "outputs": [],
   "source": [
    "#Put answer here\n",
    "\n",
    "#Computing the RMSE for train and test predictions made above\n",
    "e1 = y_train_hat-y\n",
    "e2 = y_test_hat-ytest\n",
    "rmse_lasso_train = np.sqrt(np.mean(e1*e1))\n",
    "rmse_lasso_test = np.sqrt(np.mean(e2*e2))"
   ]
  },
  {
   "cell_type": "code",
   "execution_count": 95,
   "metadata": {},
   "outputs": [
    {
     "data": {
      "text/plain": [
       "(72.4176436233933, 88.86298458492212)"
      ]
     },
     "execution_count": 95,
     "metadata": {},
     "output_type": "execute_result"
    }
   ],
   "source": [
    "rmse_lasso_train, rmse_lasso_test "
   ]
  },
  {
   "cell_type": "markdown",
   "metadata": {
    "id": "QzqNV3ticYIL"
   },
   "source": [
    "I've compared this to the standard deviation of the data, the model has performed better than that!"
   ]
  },
  {
   "cell_type": "code",
   "execution_count": 96,
   "metadata": {
    "id": "NYXvIHwMcYIL"
   },
   "outputs": [
    {
     "data": {
      "text/plain": [
       "(82.43021338817387, 103.25109103178704)"
      ]
     },
     "execution_count": 96,
     "metadata": {},
     "output_type": "execute_result"
    }
   ],
   "source": [
    "np.std(y), np.std(ytest) #Our model performs better than the standard deviation of the data"
   ]
  },
  {
   "cell_type": "markdown",
   "metadata": {
    "id": "qMNAk_HrcYIL"
   },
   "source": [
    "###  Random Forest \n",
    "\n",
    "The final step is to use a random forest regressor.\n",
    "\n",
    "If we use the default random forest regressor, we find we may get considerable over-fitting. So we need to explore different parameters. I've used a cross-validated grid search over the parameters:\n",
    "\n",
    "- max_features: The number of features to consider when looking for the best split (i.e. controls subsampling), *from 1 to the number of features* in 4 steps \n",
    "- n_estimators: The number of trees in the forest, from 10 to 100 in 4 steps.\n",
    "- max_samples : the number of samples to draw from to train each base estimator, from 0.1 to 0.9 in 4 steps.\n",
    "\n",
    "I've used `GridSearchCV`.\n"
   ]
  },
  {
   "cell_type": "code",
   "execution_count": 97,
   "metadata": {
    "id": "vObtrvKxcYIM"
   },
   "outputs": [
    {
     "data": {
      "text/plain": [
       "GridSearchCV(cv=3, error_score=nan,\n",
       "             estimator=RandomForestRegressor(bootstrap=True, ccp_alpha=0.0,\n",
       "                                             criterion='mse', max_depth=None,\n",
       "                                             max_features='auto',\n",
       "                                             max_leaf_nodes=None,\n",
       "                                             max_samples=None,\n",
       "                                             min_impurity_decrease=0.0,\n",
       "                                             min_impurity_split=None,\n",
       "                                             min_samples_leaf=1,\n",
       "                                             min_samples_split=2,\n",
       "                                             min_weight_fraction_leaf=0.0,\n",
       "                                             n_estimators=100, n_jobs=None,\n",
       "                                             oob_score=False, random_state=0,\n",
       "                                             verbose=0, warm_start=False),\n",
       "             iid='deprecated', n_jobs=None,\n",
       "             param_grid={'max_features': array([ 1,  8, 15, 22]),\n",
       "                         'max_samples': array([0.1       , 0.36666667, 0.63333333, 0.9       ]),\n",
       "                         'n_estimators': array([ 10,  40,  70, 100])},\n",
       "             pre_dispatch='2*n_jobs', refit=True, return_train_score=False,\n",
       "             scoring='neg_mean_squared_error', verbose=0)"
      ]
     },
     "execution_count": 97,
     "metadata": {},
     "output_type": "execute_result"
    }
   ],
   "source": [
    "#Put answer here:\n",
    "#1. Create a grid of parameter values for n_estimators, max_features and max_samples,\n",
    "\n",
    "parameters = {\n",
    "    'n_estimators' : np.linspace(10,100,4).astype(int),\n",
    "    'max_features' : np.linspace(1,X.shape[1],4).astype(int),\n",
    "    'max_samples'  : np.linspace(0.1,0.9,4)\n",
    "}\n",
    "\n",
    "\n",
    "#2. Create a GridSearchCV object, using the random forest regressor:\n",
    "\n",
    "regressor = RandomForestRegressor(random_state = 0)\n",
    "grid_regression = GridSearchCV(regressor, parameters,cv=3,scoring='neg_mean_squared_error')\n",
    "\n",
    "#Note: Because there is so much training data, using the full dataset takes too long. So here we'll just use 10%\n",
    "np.random.seed(42)\n",
    "idx = np.sort(np.random.choice(len(X), size=int(len(X)*0.1), replace=False))\n",
    "#3. Fit to training data in (the subset of) X and y\n",
    "grid_regression.fit(X[idx,:],y[idx])"
   ]
  },
  {
   "cell_type": "markdown",
   "metadata": {
    "id": "HUuX3bOYcYIM"
   },
   "source": [
    "Here I print the best parameters from the grid search (on the training/validation cross-validation run):"
   ]
  },
  {
   "cell_type": "code",
   "execution_count": 98,
   "metadata": {
    "id": "ShaXFzjQcYIN"
   },
   "outputs": [
    {
     "name": "stdout",
     "output_type": "stream",
     "text": [
      "Best n_estimator 100\n",
      "Best max features 8\n",
      "Best max samples 0.6333333333333333\n"
     ]
    }
   ],
   "source": [
    "#To obtain the best parameters using grid search and display them\n",
    "best_n_estimators = grid_regression.best_params_['n_estimators']\n",
    "best_max_features = grid_regression.best_params_['max_features']\n",
    "best_max_samples = grid_regression.best_params_['max_samples']\n",
    "print('Best n_estimator', best_n_estimators)\n",
    "print('Best max features', best_max_features)\n",
    "print('Best max samples', best_max_samples)"
   ]
  },
  {
   "cell_type": "markdown",
   "metadata": {
    "id": "dczjj2ercYIN"
   },
   "source": [
    "###  RMSE for the Random Forest Regressor\n",
    "\n",
    "Finally I compute the RMSE for the training and test data:"
   ]
  },
  {
   "cell_type": "code",
   "execution_count": 99,
   "metadata": {},
   "outputs": [],
   "source": [
    "#getting the training and test predictions for RF using grid search\n",
    "y_train_hat = grid_regression.predict(X)\n",
    "y_test_hat = grid_regression.predict(Xtest)"
   ]
  },
  {
   "cell_type": "code",
   "execution_count": 100,
   "metadata": {
    "id": "1SAtgw13cYIO"
   },
   "outputs": [],
   "source": [
    "\n",
    "# Computing the rmse for training and test predictions made above\n",
    "e1 = y_train_hat-y\n",
    "e2 = y_test_hat-ytest\n",
    "rmse_rf_train = np.sqrt(np.mean(e1*e1))\n",
    "rmse_rf_test = np.sqrt(np.mean(e2*e2))\n"
   ]
  },
  {
   "cell_type": "code",
   "execution_count": 101,
   "metadata": {},
   "outputs": [
    {
     "data": {
      "text/plain": [
       "(63.22275111746609, 82.99472812112394)"
      ]
     },
     "execution_count": 101,
     "metadata": {},
     "output_type": "execute_result"
    }
   ],
   "source": [
    "rmse_rf_train, rmse_rf_test"
   ]
  },
  {
   "cell_type": "markdown",
   "metadata": {
    "id": "S_j3g8cycYIP"
   },
   "source": [
    "Again I have compared this to the standard deviations for the two sets of data."
   ]
  },
  {
   "cell_type": "code",
   "execution_count": 103,
   "metadata": {
    "id": "FRjHEn1pcYIQ"
   },
   "outputs": [
    {
     "data": {
      "text/plain": [
       "(82.43021338817387, 103.25109103178704)"
      ]
     },
     "execution_count": 103,
     "metadata": {},
     "output_type": "execute_result"
    }
   ],
   "source": [
    "np.std(y), np.std(ytest) # We can see that our model has performed better than the standard deviatons of the two sets of data"
   ]
  },
  {
   "cell_type": "markdown",
   "metadata": {
    "id": "wpY-t0TfcYIQ"
   },
   "source": [
    "### Useful Observation:"
   ]
  },
  {
   "cell_type": "markdown",
   "metadata": {
    "id": "KOBVQyVpcYIR"
   },
   "source": [
    "\n",
    "We can see that the random forest model performed better than the lasso reegression model. This is evident from the RMSE values displayed above for both the models"
   ]
  },
  {
   "cell_type": "markdown",
   "metadata": {},
   "source": [
    "## References :\n",
    "\n",
    "1. Module Lecture Notes\n",
    "2. Module lab sheets\n",
    "3. Dutta, A. (2019). Random Forest Regression in Python - GeeksforGeeks. [online] GeeksforGeeks. Available at: https://www.geeksforgeeks.org/random-forest-regression-in-python/.\n",
    "\n",
    "4. Zach (2020). Introduction to Lasso Regression. [online] Statology. Available at: https://www.statology.org/lasso-regression/.\n",
    "\n"
   ]
  },
  {
   "cell_type": "code",
   "execution_count": null,
   "metadata": {},
   "outputs": [],
   "source": []
  }
 ],
 "metadata": {
  "colab": {
   "collapsed_sections": [],
   "provenance": []
  },
  "kernelspec": {
   "display_name": "Python 3",
   "language": "python",
   "name": "python3"
  },
  "language_info": {
   "codemirror_mode": {
    "name": "ipython",
    "version": 3
   },
   "file_extension": ".py",
   "mimetype": "text/x-python",
   "name": "python",
   "nbconvert_exporter": "python",
   "pygments_lexer": "ipython3",
   "version": "3.7.6"
  }
 },
 "nbformat": 4,
 "nbformat_minor": 1
}
